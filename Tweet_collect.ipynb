{
 "cells": [
  {
   "cell_type": "code",
   "execution_count": 1,
   "metadata": {},
   "outputs": [],
   "source": [
    "import tweepy\n",
    "import csv\n",
    "\n",
    "consumer_key = \"TRmrHCS7HvXTwAQ3xCeun7E13\"\n",
    "consumer_secret = \"sJGOALBYhW5iqzT3pzBWHdnHXJqtcabsweQetFd3mZOPeAbFgm\"\n",
    "access_key = \"2150819399-0K6BIlyfdJNfhcQKBmMQz7T52WBUWaLDlfi17Ml\"\n",
    "access_secret = \"idh0Dqj4J4fK5tQ6yYDq7okuS1nOjrnRiAWiNLPXyzq0B\"\n"
   ]
  },
  {
   "cell_type": "code",
   "execution_count": 6,
   "metadata": {},
   "outputs": [],
   "source": [
    "import nltk\n",
    "from nltk.metrics import recall as recall\n",
    "from nltk.metrics import precision as precision\n",
    "from nltk.metrics import f_measure as f_measure\n",
    "from nltk.corpus import stopwords\n",
    "import collections\n",
    "from nltk.classify import SklearnClassifier\n",
    "from sklearn.svm import LinearSVC"
   ]
  },
  {
   "cell_type": "code",
   "execution_count": 3,
   "metadata": {},
   "outputs": [],
   "source": [
    "#nltk.download('stopwords')"
   ]
  },
  {
   "cell_type": "code",
   "execution_count": 7,
   "metadata": {},
   "outputs": [],
   "source": [
    "from string import punctuation"
   ]
  },
  {
   "cell_type": "code",
   "execution_count": 8,
   "metadata": {},
   "outputs": [],
   "source": [
    "def get_all_tweets(screen_name):\n",
    "    auth = tweepy.OAuthHandler(consumer_key, consumer_secret)\n",
    "    auth.set_access_token(access_key, access_secret)\n",
    "    api = tweepy.API(auth)\n",
    "\n",
    "    alltweets = []\n",
    "\n",
    "    new_tweets = api.user_timeline(screen_name=screen_name, count=200)\n",
    "    alltweets.extend(new_tweets)\n",
    "    oldest = alltweets[-1].id - 1\n",
    "    print(\"...%s tweets downloaded so far\" % (len(alltweets)))\n",
    "    c = 5\n",
    "\n",
    "    while c > 0:\n",
    "        # print(\"getting tweets before %s\" % (oldest))\n",
    "        new_tweets = api.user_timeline(screen_name = screen_name, count = 200, max_id = oldest)\n",
    "\n",
    "        alltweets.extend(new_tweets)\n",
    "        oldest = alltweets[-1].id - 1\n",
    "\n",
    "        print(\"...%s tweets downloaded so far\" % (len(alltweets)))\n",
    "        c -= 1\n",
    "\n",
    "    outtweets = [[tweet.text.encode(\"utf-8\")] for tweet in alltweets]\n",
    "   # write the csv inside particular folder\n",
    "\n",
    "    with open('%s_tweets.csv' % screen_name, 'w') as f:\n",
    "       writer = csv.writer(f)\n",
    "       writer.writerows(outtweets)"
   ]
  },
  {
   "cell_type": "code",
   "execution_count": 9,
   "metadata": {},
   "outputs": [],
   "source": [
    "def clean_data(filename):\n",
    "    file = open(filename, 'rt')\n",
    "    text = file.read()\n",
    "    file.close()\n",
    "\n",
    "    # split into words by white space\n",
    "    words = text.split(\"\\n\")\n",
    "    words = [word.lower() for word in words]\n",
    "    print(words[:1])\n",
    "\n",
    "    # remove punctuation from each word\n",
    "    import string\n",
    "    table = str.maketrans('', '', string.punctuation)\n",
    "    stripped = [w.translate(table) for w in words]\n",
    "    print(stripped[:1])\n",
    "\n",
    "    # create cleaned file\n",
    "    file = open(\"cleaned_\"+filename, \"w\")\n",
    "    for i in stripped:\n",
    "        file.write(i+\"\\n\")\n",
    "    file.close()"
   ]
  },
  {
   "cell_type": "code",
   "execution_count": 10,
   "metadata": {},
   "outputs": [],
   "source": [
    "def word_split(data):\n",
    "    data_new = []\n",
    "    for word in data:\n",
    "        word_filter = [i.lower() for i in word.split()]\n",
    "        data_new.append(word_filter)\n",
    "    return data_new\n",
    "\n",
    "def word_feats(words):\n",
    "    return dict([(word, True) for word in words])\n",
    "\n",
    "stopset = set(stopwords.words('english'))\n",
    "\n",
    "def stopword_filtered_word_feats(words):\n",
    "    return dict([(word, True) for word in words if word not in stopset])"
   ]
  },
  {
   "cell_type": "code",
   "execution_count": 11,
   "metadata": {},
   "outputs": [],
   "source": [
    "posdata = []\n",
    "negdata = []\n",
    "with open('positive-data.csv', 'r') as myfile:\n",
    "    reader = csv.reader(myfile, delimiter=',')\n",
    "    for col in reader:\n",
    "        posdata.append(col[0])\n",
    "with open('negative-data.csv', 'r') as myfile:\n",
    "    reader = csv.reader(myfile, delimiter=',')\n",
    "    for col in reader:\n",
    "        negdata.append(col[0])"
   ]
  },
  {
   "cell_type": "code",
   "execution_count": 12,
   "metadata": {},
   "outputs": [],
   "source": [
    "negfeats = [(stopword_filtered_word_feats(f), 'neg') for f in word_split(negdata)]\n",
    "posfeats = [(stopword_filtered_word_feats(f), 'pos') for f in word_split(posdata)]"
   ]
  },
  {
   "cell_type": "code",
   "execution_count": 13,
   "metadata": {},
   "outputs": [],
   "source": [
    "negcutoff = int(len(negfeats)*10/11)\n",
    "poscutoff = int(len(posfeats)*10/11)"
   ]
  },
  {
   "cell_type": "code",
   "execution_count": 14,
   "metadata": {},
   "outputs": [],
   "source": [
    "trainfeats = negfeats[:negcutoff] + posfeats[:poscutoff]\n",
    "testfeats = negfeats[negcutoff:] + posfeats[poscutoff:]"
   ]
  },
  {
   "cell_type": "code",
   "execution_count": 15,
   "metadata": {},
   "outputs": [],
   "source": [
    "refsets = collections.defaultdict(set)\n",
    "testsets = collections.defaultdict(set)"
   ]
  },
  {
   "cell_type": "code",
   "execution_count": 16,
   "metadata": {},
   "outputs": [],
   "source": [
    "classifier = nltk.NaiveBayesClassifier.train(trainfeats)\n",
    "for i, (feats, label) in enumerate(testfeats):\n",
    "    refsets[label].add(i)\n",
    "    observed = classifier.classify(feats)\n",
    "    testsets[observed].add(i)\n",
    "\n",
    "accuracy = nltk.classify.util.accuracy(classifier, testfeats)*100\n",
    "pos_precision = nltk.precision(refsets['pos'], testsets['pos'])"
   ]
  },
  {
   "cell_type": "code",
   "execution_count": null,
   "metadata": {},
   "outputs": [],
   "source": []
  },
  {
   "cell_type": "code",
   "execution_count": 17,
   "metadata": {},
   "outputs": [],
   "source": [
    "screen_list = [\"india\",\"china\",\"usa\",\"canada\",\"russia\",\"france\"]"
   ]
  },
  {
   "cell_type": "code",
   "execution_count": 18,
   "metadata": {},
   "outputs": [
    {
     "name": "stdout",
     "output_type": "stream",
     "text": [
      "...199 tweets downloaded so far\n",
      "...296 tweets downloaded so far\n",
      "...296 tweets downloaded so far\n",
      "...296 tweets downloaded so far\n",
      "...296 tweets downloaded so far\n",
      "...296 tweets downloaded so far\n",
      "...200 tweets downloaded so far\n",
      "...400 tweets downloaded so far\n",
      "...600 tweets downloaded so far\n",
      "...800 tweets downloaded so far\n",
      "...1000 tweets downloaded so far\n",
      "...1200 tweets downloaded so far\n",
      "...200 tweets downloaded so far\n",
      "...400 tweets downloaded so far\n",
      "...600 tweets downloaded so far\n",
      "...800 tweets downloaded so far\n",
      "...1000 tweets downloaded so far\n",
      "...1200 tweets downloaded so far\n",
      "...200 tweets downloaded so far\n",
      "...400 tweets downloaded so far\n",
      "...600 tweets downloaded so far\n",
      "...800 tweets downloaded so far\n",
      "...1000 tweets downloaded so far\n",
      "...1200 tweets downloaded so far\n",
      "...200 tweets downloaded so far\n",
      "...400 tweets downloaded so far\n",
      "...600 tweets downloaded so far\n",
      "...800 tweets downloaded so far\n",
      "...1000 tweets downloaded so far\n",
      "...1200 tweets downloaded so far\n",
      "...200 tweets downloaded so far\n",
      "...400 tweets downloaded so far\n",
      "...600 tweets downloaded so far\n",
      "...800 tweets downloaded so far\n",
      "...1000 tweets downloaded so far\n",
      "...1200 tweets downloaded so far\n"
     ]
    }
   ],
   "source": [
    "for i in range(len(screen_list)):\n",
    "    get_all_tweets(screen_list[i])"
   ]
  },
  {
   "cell_type": "code",
   "execution_count": 19,
   "metadata": {},
   "outputs": [
    {
     "name": "stdout",
     "output_type": "stream",
     "text": [
      "[\"b'@doc_comofficial @ddocasoul good job\\\\xf0\\\\x9f\\\\x92\\\\xaa\\\\xf0\\\\x9f\\\\x92\\\\xaa\\\\xf0\\\\x9f\\\\x92\\\\xaa'\"]\n",
      "['bdoccomofficial ddocasoul good jobxf0x9fx92xaaxf0x9fx92xaaxf0x9fx92xaa']\n",
      "[\"b'apple\\\\xe2\\\\x80\\\\x99s homepod will be available in china starting early next year https://t.co/rxupm8ek8g by @catherineshu https://t.co/9keywdnsig'\"]\n",
      "['bapplexe2x80x99s homepod will be available in china starting early next year httpstcorxupm8ek8g by catherineshu httpstco9keywdnsig']\n",
      "[\"b'your drive home in washington \\\\xf0\\\\x9f\\\\x98\\\\x8d https://t.co/z6f9le4162'\"]\n",
      "['byour drive home in washington xf0x9fx98x8d httpstcoz6f9le4162']\n",
      "[\"b'\\\\xe2\\\\x80\\\\x9cwhere stars past the spruce copse mingle with fireflies\\\\nor the dayscape flings a thousand tones of light back at t\\\\xe2\\\\x80\\\\xa6 https://t.co/h1qw4zv4k6'\"]\n",
      "['bxe2x80x9cwhere stars past the spruce copse mingle with firefliesnor the dayscape flings a thousand tones of light back at txe2x80xa6 httpstcoh1qw4zv4k6']\n",
      "['\"b\\'rt @novgorodrus: from 6 to 7 july 2019 in veliky novgorod will be a folk festival for tourists \"\"novgorod kupala\"\". midsummer (kupala, kupaly\\\\xe2\\\\x80\\\\xa6\\'\"']\n",
      "['brt novgorodrus from 6 to 7 july 2019 in veliky novgorod will be a folk festival for tourists novgorod kupala midsummer kupala kupalyxe2x80xa6']\n",
      "[\"b'france t\\\\xc3\\\\xa9l\\\\xc3\\\\xa9visions va lancer une nouvelle cha\\\\xc3\\\\xaene olympique pour les jo 2020. https://t.co/sdpotpbnkw'\"]\n",
      "['bfrance txc3xa9lxc3xa9visions va lancer une nouvelle chaxc3xaene olympique pour les jo 2020 httpstcosdpotpbnkw']\n"
     ]
    }
   ],
   "source": [
    "for i in screen_list:\n",
    "    clean_data(i+'_tweets.csv')"
   ]
  },
  {
   "cell_type": "code",
   "execution_count": 20,
   "metadata": {},
   "outputs": [],
   "source": [
    "#implementation"
   ]
  },
  {
   "cell_type": "code",
   "execution_count": 21,
   "metadata": {},
   "outputs": [
    {
     "name": "stdout",
     "output_type": "stream",
     "text": [
      "Total:  296\n",
      "Errors: 297\n",
      "Sucess -1\n",
      "Total:  1200\n",
      "Errors: 1201\n",
      "Sucess -1\n",
      "Total:  1200\n",
      "Errors: 1201\n",
      "Sucess -1\n",
      "Total:  1200\n",
      "Errors: 1201\n",
      "Sucess -1\n",
      "Total:  1200\n",
      "Errors: 1201\n",
      "Sucess -1\n",
      "Total:  1200\n",
      "Errors: 1201\n",
      "Sucess -1\n"
     ]
    }
   ],
   "source": [
    "p = []\n",
    "n = []\n",
    "for i in screen_list:\n",
    "    my_data = []\n",
    "    error = 0\n",
    "    with open('cleaned_'+i+'_tweets.csv', 'r') as myfile:\n",
    "        reader = csv.reader(myfile, delimiter=',')\n",
    "        for col in reader:\n",
    "            try:\n",
    "                my_data.append(col[0])\n",
    "            except:\n",
    "                error+=1\n",
    "    print(\"Total: \", len(my_data))\n",
    "    print(\"Errors:\", error)\n",
    "    print(\"Sucess\", len(my_data)- error)\n",
    "    \n",
    "    result = collections.defaultdict(set)\n",
    "    my_data_feats = [(stopword_filtered_word_feats(f), 'pos') for f in word_split(my_data)]\n",
    "    for i, (feats, label) in enumerate(my_data_feats):\n",
    "        observed = classifier.classify(feats)\n",
    "        result[observed].add(i)\n",
    "    p.append(len(result['pos']))\n",
    "    n.append(len(result['neg']))"
   ]
  },
  {
   "cell_type": "code",
   "execution_count": 22,
   "metadata": {},
   "outputs": [
    {
     "name": "stdout",
     "output_type": "stream",
     "text": [
      "141\n",
      "335\n",
      "675\n",
      "470\n",
      "559\n",
      "683\n"
     ]
    }
   ],
   "source": [
    "for i in p:\n",
    "    print(i)"
   ]
  },
  {
   "cell_type": "code",
   "execution_count": 23,
   "metadata": {},
   "outputs": [
    {
     "name": "stdout",
     "output_type": "stream",
     "text": [
      "155\n",
      "865\n",
      "525\n",
      "730\n",
      "641\n",
      "517\n"
     ]
    }
   ],
   "source": [
    "for i in n:\n",
    "    print(i)"
   ]
  },
  {
   "cell_type": "code",
   "execution_count": 24,
   "metadata": {},
   "outputs": [
    {
     "data": {
      "text/plain": [
       "<Figure size 1200x800 with 6 Axes>"
      ]
     },
     "metadata": {},
     "output_type": "display_data"
    }
   ],
   "source": [
    "import matplotlib.pyplot as plt\n",
    "plt.figure(figsize=(12,8))\n",
    "for i in range(len(screen_list)):\n",
    "    plt.subplot(2,3,i+1)\n",
    "    plt.bar(['pos','neg'],[p[i],n[i]],color = ['g','r'])\n",
    "    plt.title('tweets for screen name : '+screen_list[i])\n",
    "    plt.ylabel('number of tweets')\n",
    "plt.show()"
   ]
  },
  {
   "cell_type": "code",
   "execution_count": 25,
   "metadata": {},
   "outputs": [
    {
     "data": {
      "text/plain": [
       "[141, 335, 675, 470, 559, 683]"
      ]
     },
     "execution_count": 25,
     "metadata": {},
     "output_type": "execute_result"
    }
   ],
   "source": [
    "G_pos = []\n",
    "for i in p:\n",
    "    G_pos.append(i)\n",
    "G_pos"
   ]
  },
  {
   "cell_type": "code",
   "execution_count": 26,
   "metadata": {},
   "outputs": [
    {
     "data": {
      "text/plain": [
       "[155, 865, 525, 730, 641, 517]"
      ]
     },
     "execution_count": 26,
     "metadata": {},
     "output_type": "execute_result"
    }
   ],
   "source": [
    "G_neg = []\n",
    "for i in n:\n",
    "    G_neg.append(i)\n",
    "G_neg"
   ]
  },
  {
   "cell_type": "code",
   "execution_count": 27,
   "metadata": {},
   "outputs": [
    {
     "data": {
      "text/plain": [
       "[0.04924903946908837,\n",
       " 0.11701012923506811,\n",
       " 0.2357666783094656,\n",
       " 0.16416346489696124,\n",
       " 0.1952497380370241,\n",
       " 0.23856095005239258]"
      ]
     },
     "execution_count": 27,
     "metadata": {},
     "output_type": "execute_result"
    }
   ],
   "source": [
    "GT_pos = sum(G_pos)\n",
    "GP_pos = [i/GT_pos for i in G_pos]\n",
    "GP_pos"
   ]
  },
  {
   "cell_type": "code",
   "execution_count": 28,
   "metadata": {},
   "outputs": [
    {
     "data": {
      "text/plain": [
       "[0.04515001456452083,\n",
       " 0.25196621031168076,\n",
       " 0.1529274686862802,\n",
       " 0.21264200407806583,\n",
       " 0.1867171570055345,\n",
       " 0.15059714535391786]"
      ]
     },
     "execution_count": 28,
     "metadata": {},
     "output_type": "execute_result"
    }
   ],
   "source": [
    "GT_neg = sum(G_neg)\n",
    "GP_neg = [i/GT_neg for i in G_neg]\n",
    "GP_neg"
   ]
  },
  {
   "cell_type": "code",
   "execution_count": 29,
   "metadata": {},
   "outputs": [
    {
     "data": {
      "image/png": "[encoded data removed]",
      "text/plain": [
       "<Figure size 432x432 with 1 Axes>"
      ]
     },
     "metadata": {},
     "output_type": "display_data"
    }
   ],
   "source": [
    "plt.figure(1,figsize=(6,6))\n",
    "plt.pie(GP_pos,labels=screen_list, explode=[0.1,0.01,0.01,0.01,0.01,0.01])\n",
    "plt.title('POSITIVE')\n",
    "plt.show()"
   ]
  },
  {
   "cell_type": "code",
   "execution_count": 30,
   "metadata": {},
   "outputs": [
    {
     "data": {
      "image/png": "[encoded data removed]",
      "text/plain": [
       "<Figure size 432x432 with 1 Axes>"
      ]
     },
     "metadata": {},
     "output_type": "display_data"
    }
   ],
   "source": [
    "plt.figure(1,figsize=(6,6))\n",
    "plt.pie(GP_neg,labels=screen_list, explode=[0.1,0.01,0.01,0.01,0.01,0.01])\n",
    "plt.title('NEGATIVE')\n",
    "plt.show()"
   ]
  },
  {
   "cell_type": "code",
   "execution_count": 32,
   "metadata": {},
   "outputs": [
    {
     "data": {
      "image/png": "[encoded data removed]",
      "text/plain": [
       "<Figure size 432x288 with 1 Axes>"
      ]
     },
     "metadata": {
      "needs_background": "light"
     },
     "output_type": "display_data"
    }
   ],
   "source": [
    "import numpy as np\n",
    "n_groups = 6\n",
    " \n",
    " \n",
    "# create plot\n",
    "fig, ax = plt.subplots()\n",
    "index = np.arange(n_groups)\n",
    "bar_width = 0.35\n",
    "opacity = 0.8\n",
    " \n",
    "rects1 = plt.bar(index, p, bar_width,\n",
    "                 alpha=opacity,\n",
    "                 color='g',\n",
    "                 label='POSITIVE')\n",
    " \n",
    "rects2 = plt.bar(index + bar_width, n, bar_width,\n",
    "                 alpha=opacity,\n",
    "                 color='r',\n",
    "                 label='NEGATIVE')\n",
    "plt.xlabel('Country')\n",
    "plt.ylabel('Number of tweets')\n",
    "plt.xticks(index + bar_width, screen_list)\n",
    "plt.legend()\n",
    " \n",
    "plt.tight_layout()\n",
    "plt.show()"
   ]
  },
  {
   "cell_type": "code",
   "execution_count": null,
   "metadata": {},
   "outputs": [],
   "source": []
  }
 ],
 "metadata": {
  "kernelspec": {
   "display_name": "Python 3",
   "language": "python",
   "name": "python3"
  },
  "language_info": {
   "codemirror_mode": {
    "name": "ipython",
    "version": 3
   },
   "file_extension": ".py",
   "mimetype": "text/x-python",
   "name": "python",
   "nbconvert_exporter": "python",
   "pygments_lexer": "ipython3",
   "version": "3.7.1"
  }
 },
 "nbformat": 4,
 "nbformat_minor": 2
}
